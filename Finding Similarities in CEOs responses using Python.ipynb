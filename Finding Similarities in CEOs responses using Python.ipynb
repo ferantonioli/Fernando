{
 "cells": [
  {
   "cell_type": "code",
   "execution_count": null,
   "id": "cb1038c4",
   "metadata": {},
   "outputs": [],
   "source": [
    "import pandas as pd\n",
    "import matplotlib.pyplot as plt\n",
    "import seaborn as sns\n",
    "from wordcloud import WordCloud, STOPWORDS\n",
    "from nltk.corpus import stopwords\n",
    "from PIL import Image\n",
    "import requests\n",
    "import numpy as np\n",
    "import re\n",
    "import warnings\n",
    "import nltk\n",
    "import collections\n",
    "from collections import Counter\n",
    "from collections import Counter, OrderedDict\n",
    "import itertools\n",
    "from nltk.stem import WordNetLemmatizer, PorterStemmer, SnowballStemmer\n",
    "warnings.filterwarnings('ignore')"
   ]
  },
  {
   "cell_type": "code",
   "execution_count": null,
   "id": "3f87a6f6",
   "metadata": {
    "scrolled": false
   },
   "outputs": [],
   "source": [
    "#load doc\n",
    "df = pd.read_csv(r\"C:\\Users\\fero9\\OneDrive\\Desktop\\Babson\\Spring\\Advanced Programming\\Final Project\\Data - Final Copy.csv\", skiprows = 2)"
   ]
  },
  {
   "cell_type": "code",
   "execution_count": null,
   "id": "e607061d",
   "metadata": {},
   "outputs": [],
   "source": [
    "df[0:1].fillna(0, inplace = True)"
   ]
  },
  {
   "cell_type": "code",
   "execution_count": null,
   "id": "2bbde91e",
   "metadata": {
    "scrolled": true
   },
   "outputs": [],
   "source": [
    "#change first row to integers\n",
    "df[:1] = df[:1].astype(int)\n",
    "\n",
    "#transpose matrix and drop rows that are not equal to '0'\n",
    "df = df.T[df.T[0] != 0]\n",
    "\n",
    "#transpose matrix again\n",
    "df = df.T\n",
    "\n",
    "#drop first row\n",
    "df = df.iloc[1:,:]"
   ]
  },
  {
   "cell_type": "markdown",
   "id": "43fd48a9",
   "metadata": {},
   "source": [
    "# Word Processer for Word Cloud"
   ]
  },
  {
   "cell_type": "code",
   "execution_count": null,
   "id": "9e7c4c2d",
   "metadata": {},
   "outputs": [],
   "source": [
    "#word processor\n",
    "nltk.download('stopwords')\n",
    "stop_words = set(stopwords.words('english'))\n",
    "more_stopwords = {'know', 'would', 'going', 'get', 'things', 'need',\n",
    "                  'want', 're', 't', 's', 'n', 've', 'really', 'one', 'two', 'three'}\n",
    "STOPWORDS = STOPWORDS.union(more_stopwords)\n",
    "\n",
    "def preprocess(raw_text):\n",
    "    #regular expression keeping only letters\n",
    "    letters_only_text = re.sub(\"[^a-zA-Z]\", \" \", raw_text)\n",
    "\n",
    "    #convert to lower case and split into words -> convert string into list ( 'hello world' -> ['hello', 'world'])\n",
    "    words = letters_only_text.lower().split()\n",
    "    cleaned_words = []\n",
    "    lemmatizer = PorterStemmer() #plug in here any other stemmer or lemmatiser you want to try out\n",
    "    \n",
    "    #remove stopwords\n",
    "    for word in words:\n",
    "        if word not in stop_words:\n",
    "            cleaned_words.append(word)\n",
    "            \n",
    "    #remove more stopwords\n",
    "    for word in words:\n",
    "        if word not in STOPWORDS:\n",
    "            cleaned_words.append(word)\n",
    "\n",
    "    #converting list back to string\n",
    "    return \" \".join(cleaned_words)"
   ]
  },
  {
   "cell_type": "markdown",
   "id": "f2b72d41",
   "metadata": {},
   "source": [
    "# Number of Employees"
   ]
  },
  {
   "cell_type": "code",
   "execution_count": null,
   "id": "96a363e2",
   "metadata": {},
   "outputs": [],
   "source": [
    "#create new dataframe, drop null values, and drop ',' and change values from strings to integers\n",
    "df2 = df.drop(['Organization', 'Revenue', 'Realized_Returns'], axis = 1)\n",
    "df2 = df2[df2['Number_Of_Employees'].notna()]\n",
    "df2['Number_Of_Employees'] = df2['Number_Of_Employees'].replace(',','', regex = True).astype(int)"
   ]
  },
  {
   "cell_type": "code",
   "execution_count": null,
   "id": "c9bd8bcd",
   "metadata": {},
   "outputs": [],
   "source": [
    "#assign each row a company size (small, medium, or large)\n",
    "def z(row):\n",
    "    if row['Number_Of_Employees'] <= 1000:\n",
    "        val = 'Small'\n",
    "    elif row['Number_Of_Employees'] >= 3000:\n",
    "        val = 'Large'\n",
    "    else:\n",
    "        val = 'Medium'\n",
    "    return val\n",
    "\n",
    "#create new column using the function above\n",
    "df2['Company Size'] = df2.apply(z, axis = 1)"
   ]
  },
  {
   "cell_type": "code",
   "execution_count": null,
   "id": "8a22ea84",
   "metadata": {},
   "outputs": [],
   "source": [
    "#move the 'Company Size' column closer to the beginning\n",
    "companysize = df2['Company Size']\n",
    "df2.drop(labels = ['Company Size'], axis = 1,inplace = True)\n",
    "df2.insert(1, 'Company Size', companysize)"
   ]
  },
  {
   "cell_type": "markdown",
   "id": "35b2c976",
   "metadata": {},
   "source": [
    "### Small Size"
   ]
  },
  {
   "cell_type": "code",
   "execution_count": null,
   "id": "9e8ad9fb",
   "metadata": {},
   "outputs": [],
   "source": [
    "#small size rows\n",
    "df_small_size = df2[df2['Company Size'] == 'Small']\n",
    "df_small_size = df_small_size.drop(columns = ['Number_Of_Employees', 'Company Size'])\n",
    "df_small_size.fillna(\"no\", inplace = True)\n",
    "df_small_size = df_small_size.astype(str)"
   ]
  },
  {
   "cell_type": "code",
   "execution_count": null,
   "id": "2c816e2f",
   "metadata": {},
   "outputs": [],
   "source": [
    "#put all columns in one\n",
    "small_size_rows = df_small_size.iloc[:,0]\n",
    "for i in range(1,len(df_small_size.columns)):\n",
    "    small_size_rows = pd.concat([small_size_rows, df_small_size.iloc[:,i]])"
   ]
  },
  {
   "cell_type": "code",
   "execution_count": null,
   "id": "ed221635",
   "metadata": {
    "scrolled": true
   },
   "outputs": [],
   "source": [
    "#word prep\n",
    "small_size_rows = small_size_rows.apply(preprocess)"
   ]
  },
  {
   "cell_type": "code",
   "execution_count": null,
   "id": "280bc02e",
   "metadata": {},
   "outputs": [],
   "source": [
    "#bigram\n",
    "bigrams_list_small_size = [b for l in small_size_rows for b in zip(l.split(\" \")[:-1], l.split(\" \")[1:])]\n",
    "bigram_counts_small_size = collections.Counter(bigrams_list_small_size)\n",
    "\n",
    "bigram_small_size = pd.DataFrame(bigram_counts_small_size.most_common(20),\n",
    "                         columns = ['bigram', 'count'])\n",
    "bigram_small_size"
   ]
  },
  {
   "cell_type": "code",
   "execution_count": null,
   "id": "4ad48ca0",
   "metadata": {
    "scrolled": true
   },
   "outputs": [],
   "source": [
    "#word counter\n",
    "counter_list_small_size = Counter(\" \".join(small_size_rows).split()).most_common(15)\n",
    "counter_list_small_size"
   ]
  },
  {
   "cell_type": "code",
   "execution_count": null,
   "id": "705c119b",
   "metadata": {},
   "outputs": [],
   "source": [
    "#plot most common words\n",
    "fig, ax = plt.subplots(figsize = (8, 8))\n",
    "small_size_results = OrderedDict(counter_list_small_size)\n",
    "plt.bar(small_size_results.keys(), small_size_results.values(), color = '#FF0000')\n",
    "plt.title('Most common words used by CEOs of small size companies', fontsize = 15, fontweight = 'bold', loc = 'center')\n",
    "plt.xticks(rotation = 90)\n",
    "plt.show()"
   ]
  },
  {
   "cell_type": "code",
   "execution_count": null,
   "id": "0c8a9ea6",
   "metadata": {
    "scrolled": true
   },
   "outputs": [],
   "source": [
    "#word cloud\n",
    "small_size = ''\n",
    "for arg in small_size_rows:\n",
    "    tokens = arg.split()\n",
    "    small_size += \" \".join(tokens) + \" \"\n",
    "\n",
    "def word_cloud(data, title):\n",
    "    wordcloud = WordCloud(width = 700,\n",
    "                          height = 700,\n",
    "                          stopwords = STOPWORDS,\n",
    "                          background_color = 'black',\n",
    "                          min_font_size = 10).generate(small_size)\n",
    "\n",
    "    #plot the WordCloud image                        \n",
    "    plt.figure(figsize = (4.5, 4.5), facecolor = None)\n",
    "    plt.imshow(wordcloud)\n",
    "    plt.axis(\"off\")\n",
    "    plt.title(title, fontsize = 13)\n",
    "    plt.tight_layout(pad = 0)\n",
    "    plt.show()\n",
    "\n",
    "word_cloud(small_size, 'Most common words used by CEOs of small size companies')"
   ]
  },
  {
   "cell_type": "markdown",
   "id": "79aa61fb",
   "metadata": {},
   "source": [
    "### Medium Size"
   ]
  },
  {
   "cell_type": "code",
   "execution_count": null,
   "id": "7d08945d",
   "metadata": {},
   "outputs": [],
   "source": [
    "#medium size rows\n",
    "df_medium_size = df2[df2['Company Size'] == 'Medium']\n",
    "df_medium_size = df_medium_size.drop(columns = ['Number_Of_Employees', 'Company Size'])\n",
    "df_medium_size.fillna(\"no\", inplace = True)\n",
    "df_medium_size = df_medium_size.astype(str)"
   ]
  },
  {
   "cell_type": "code",
   "execution_count": null,
   "id": "231f9f7f",
   "metadata": {},
   "outputs": [],
   "source": [
    "#put all columns in one\n",
    "medium_size_rows = df_medium_size.iloc[:,0]\n",
    "for i in range(1,len(df_medium_size.columns)):\n",
    "    medium_size_rows = pd.concat([medium_size_rows, df_medium_size.iloc[:,i]])"
   ]
  },
  {
   "cell_type": "code",
   "execution_count": null,
   "id": "dd762c27",
   "metadata": {},
   "outputs": [],
   "source": [
    "#word prep\n",
    "medium_size_rows = medium_size_rows.apply(preprocess)"
   ]
  },
  {
   "cell_type": "code",
   "execution_count": null,
   "id": "f49f0c1d",
   "metadata": {},
   "outputs": [],
   "source": [
    "#bigram\n",
    "bigrams_list_medium_size = [b for l in medium_size_rows for b in zip(l.split(\" \")[:-1], l.split(\" \")[1:])]\n",
    "bigram_counts_medium_size = collections.Counter(bigrams_list_medium_size)\n",
    "\n",
    "bigram_medium_size = pd.DataFrame(bigram_counts_medium_size.most_common(20),\n",
    "                         columns = ['bigram', 'count'])\n",
    "bigram_medium_size"
   ]
  },
  {
   "cell_type": "code",
   "execution_count": null,
   "id": "7dfbce50",
   "metadata": {
    "scrolled": true
   },
   "outputs": [],
   "source": [
    "#word counter\n",
    "counter_list_medium_size = Counter(\" \".join(medium_size_rows).split()).most_common(15)\n",
    "counter_list_medium_size"
   ]
  },
  {
   "cell_type": "code",
   "execution_count": null,
   "id": "fb87780e",
   "metadata": {},
   "outputs": [],
   "source": [
    "#plot most common words\n",
    "fig, ax = plt.subplots(figsize = (8, 8))\n",
    "medium_size_results = OrderedDict(counter_list_medium_size)\n",
    "plt.bar(medium_size_results.keys(), medium_size_results.values(), color = '#FF0000')\n",
    "plt.title('Most common words used by CEOs of medium size companies', fontsize = 15, fontweight = 'bold', loc = 'center')\n",
    "plt.xticks(rotation = 90)\n",
    "plt.show()"
   ]
  },
  {
   "cell_type": "code",
   "execution_count": null,
   "id": "d899b7f3",
   "metadata": {},
   "outputs": [],
   "source": [
    "#word cloud\n",
    "medium_size = ''\n",
    "for arg in medium_size_rows:\n",
    "    tokens = arg.split()\n",
    "    medium_size += \" \".join(tokens) + \" \"\n",
    "\n",
    "def word_cloud(data, title):\n",
    "    wordcloud = WordCloud(width = 700,\n",
    "                          height = 700,\n",
    "                          stopwords = STOPWORDS,\n",
    "                          background_color = 'black',\n",
    "                          min_font_size = 10).generate(medium_size)\n",
    "  \n",
    "    #plot the WordCloud image                        \n",
    "    plt.figure(figsize = (4.5, 4.5), facecolor = None)\n",
    "    plt.imshow(wordcloud)\n",
    "    plt.axis(\"off\")\n",
    "    plt.title(title, fontsize = 13)\n",
    "    plt.tight_layout(pad = 0)\n",
    "    plt.show()\n",
    "\n",
    "word_cloud(medium_size, 'Most common words used by CEOs of medium size companies')"
   ]
  },
  {
   "cell_type": "markdown",
   "id": "130c8643",
   "metadata": {},
   "source": [
    "### Large Size"
   ]
  },
  {
   "cell_type": "code",
   "execution_count": null,
   "id": "2cb2c4f8",
   "metadata": {},
   "outputs": [],
   "source": [
    "#large size rows\n",
    "df_large_size = df2[df2['Company Size'] == 'Large']\n",
    "df_large_size = df_large_size.drop(columns = ['Number_Of_Employees', 'Company Size'])\n",
    "df_large_size.fillna(\"no\", inplace = True)\n",
    "df_large_size = df_large_size.astype(str)"
   ]
  },
  {
   "cell_type": "code",
   "execution_count": null,
   "id": "3f0fee06",
   "metadata": {},
   "outputs": [],
   "source": [
    "#put all columns in one\n",
    "large_size_rows = df_large_size.iloc[:,0]\n",
    "for i in range(1,len(df_large_size.columns)):\n",
    "    large_size_rows = pd.concat([large_size_rows, df_large_size.iloc[:,i]])"
   ]
  },
  {
   "cell_type": "code",
   "execution_count": null,
   "id": "3b53664e",
   "metadata": {},
   "outputs": [],
   "source": [
    "#word prep\n",
    "large_size_rows = large_size_rows.apply(preprocess)"
   ]
  },
  {
   "cell_type": "code",
   "execution_count": null,
   "id": "70a0beea",
   "metadata": {},
   "outputs": [],
   "source": [
    "#bigram\n",
    "bigrams_list_large_size = [b for l in large_size_rows for b in zip(l.split(\" \")[:-1], l.split(\" \")[1:])]\n",
    "bigram_counts_large_size = collections.Counter(bigrams_list_large_size)\n",
    "\n",
    "bigram_large_size = pd.DataFrame(bigram_counts_large_size.most_common(20),\n",
    "                         columns = ['bigram', 'count'])\n",
    "bigram_large_size"
   ]
  },
  {
   "cell_type": "code",
   "execution_count": null,
   "id": "85f74ce1",
   "metadata": {},
   "outputs": [],
   "source": [
    "#word counter\n",
    "counter_list_large_size = Counter(\" \".join(large_size_rows).split()).most_common(15)\n",
    "counter_list_large_size"
   ]
  },
  {
   "cell_type": "code",
   "execution_count": null,
   "id": "999c4929",
   "metadata": {},
   "outputs": [],
   "source": [
    "#plot most common words\n",
    "fig, ax = plt.subplots(figsize = (8, 8))\n",
    "large_size_results = OrderedDict(counter_list_large_size)\n",
    "plt.bar(large_size_results.keys(), large_size_results.values(), color = '#FF0000')\n",
    "plt.title('Most common words used by CEOs of large size companies', fontsize = 15, fontweight = 'bold', loc = 'center')\n",
    "plt.xticks(rotation = 90)\n",
    "plt.show()"
   ]
  },
  {
   "cell_type": "code",
   "execution_count": null,
   "id": "4e827657",
   "metadata": {},
   "outputs": [],
   "source": [
    "#word cloud\n",
    "large_size = ''\n",
    "for arg in large_size_rows:\n",
    "    tokens = arg.split()\n",
    "    large_size += \" \".join(tokens) + \" \"\n",
    "\n",
    "def word_cloud(data, title):\n",
    "    wordcloud = WordCloud(width = 700,\n",
    "                          height = 700,\n",
    "                          stopwords = STOPWORDS,\n",
    "                          background_color = 'black',\n",
    "                          min_font_size = 10).generate(large_size)\n",
    "  \n",
    "    #plot the WordCloud image                        \n",
    "    plt.figure(figsize = (4.5, 4.5), facecolor = None)\n",
    "    plt.imshow(wordcloud)\n",
    "    plt.axis(\"off\")\n",
    "    plt.title(title, fontsize = 13)\n",
    "    plt.tight_layout(pad = 0)\n",
    "    plt.show()\n",
    "\n",
    "word_cloud(large_size, 'Most common words used by CEOs of large size companies')"
   ]
  },
  {
   "cell_type": "markdown",
   "id": "4f2a144b",
   "metadata": {},
   "source": [
    "# Revenue"
   ]
  },
  {
   "cell_type": "code",
   "execution_count": null,
   "id": "c2fe4f33",
   "metadata": {},
   "outputs": [],
   "source": [
    "#create new dataframe, drop null values, and drop ',' and change values from float to integers\n",
    "df3 = df.drop(['Organization', 'Number_Of_Employees', 'Realized_Returns'], axis = 1)\n",
    "df3 = df3[df3['Revenue'].notna()]\n",
    "df3['Revenue'] = df3['Revenue'].astype(int)"
   ]
  },
  {
   "cell_type": "code",
   "execution_count": null,
   "id": "22143f2e",
   "metadata": {},
   "outputs": [],
   "source": [
    "#assign each row a revenue size (small, medium, or large)\n",
    "def y(row):\n",
    "    if row['Revenue'] <= 500:\n",
    "        value = 'Small'\n",
    "    elif row['Revenue'] >= 1000:\n",
    "        value = 'Large'\n",
    "    else:\n",
    "        value = 'Medium'\n",
    "    return value\n",
    "\n",
    "#create new column using the function above\n",
    "df3['Revenue Size'] = df3.apply(y, axis = 1)"
   ]
  },
  {
   "cell_type": "code",
   "execution_count": null,
   "id": "fd2d34f8",
   "metadata": {},
   "outputs": [],
   "source": [
    "#move the 'Revenue Size' column closer to the beginning\n",
    "revenuesize = df3['Revenue Size']\n",
    "df3.drop(labels = ['Revenue Size'], axis = 1,inplace = True)\n",
    "df3.insert(1, 'Revenue Size', revenuesize)"
   ]
  },
  {
   "cell_type": "markdown",
   "id": "5cca0d81",
   "metadata": {},
   "source": [
    "### Small Revenue"
   ]
  },
  {
   "cell_type": "code",
   "execution_count": null,
   "id": "fc7058bd",
   "metadata": {},
   "outputs": [],
   "source": [
    "#small revenue rows\n",
    "df_small_revenue = df3[df3['Revenue Size'] == 'Small']\n",
    "df_small_revenue = df_small_revenue.drop(columns = ['Revenue', 'Revenue Size'])\n",
    "df_small_revenue.fillna(\"no\", inplace = True)\n",
    "df_small_revenue = df_small_revenue.astype(str)"
   ]
  },
  {
   "cell_type": "code",
   "execution_count": null,
   "id": "09f3fd6f",
   "metadata": {},
   "outputs": [],
   "source": [
    "#put all columns in one\n",
    "small_revenue_rows = df_small_revenue.iloc[:,0]\n",
    "for i in range(1,len(df_small_revenue.columns)):\n",
    "    small_revenue_rows = pd.concat([small_revenue_rows, df_small_revenue.iloc[:,i]])"
   ]
  },
  {
   "cell_type": "code",
   "execution_count": null,
   "id": "f4791332",
   "metadata": {},
   "outputs": [],
   "source": [
    "#word prep\n",
    "small_revenue_rows = small_revenue_rows.apply(preprocess)"
   ]
  },
  {
   "cell_type": "code",
   "execution_count": null,
   "id": "30283b9f",
   "metadata": {},
   "outputs": [],
   "source": [
    "#bigram\n",
    "bigrams_list_small_revenue = [b for l in small_revenue_rows for b in zip(l.split(\" \")[:-1], l.split(\" \")[1:])]\n",
    "bigram_counts_small_revenue = collections.Counter(bigrams_list_small_revenue)\n",
    "\n",
    "bigram_small_revenue = pd.DataFrame(bigram_counts_small_revenue.most_common(20),\n",
    "                         columns = ['bigram', 'count'])\n",
    "bigram_small_revenue"
   ]
  },
  {
   "cell_type": "code",
   "execution_count": null,
   "id": "37bc58b5",
   "metadata": {
    "scrolled": true
   },
   "outputs": [],
   "source": [
    "#word counter\n",
    "counter_list_small_revenue = Counter(\" \".join(small_revenue_rows).split()).most_common(15)\n",
    "counter_list_small_revenue"
   ]
  },
  {
   "cell_type": "code",
   "execution_count": null,
   "id": "d82ccbd1",
   "metadata": {},
   "outputs": [],
   "source": [
    "#plot most common words\n",
    "fig, ax = plt.subplots(figsize = (8, 8))\n",
    "small_revenue_results = OrderedDict(counter_list_small_revenue)\n",
    "plt.bar(small_revenue_results.keys(), small_revenue_results.values(), color = '#FF0000')\n",
    "plt.title('Most common words used by CEOs of small revenue companies', fontsize = 15, fontweight = 'bold', loc = 'center')\n",
    "plt.xticks(rotation = 90)\n",
    "plt.show()"
   ]
  },
  {
   "cell_type": "code",
   "execution_count": null,
   "id": "427df4ee",
   "metadata": {},
   "outputs": [],
   "source": [
    "#word cloud\n",
    "small_revenue = ''\n",
    "for arg in small_revenue_rows:\n",
    "    tokens = arg.split()\n",
    "    small_revenue += \" \".join(tokens) + \" \"\n",
    "\n",
    "def word_cloud(data, title):\n",
    "    wordcloud = WordCloud(width = 700,\n",
    "                          height = 700,\n",
    "                          stopwords = STOPWORDS,\n",
    "                          background_color = 'black',\n",
    "                          min_font_size = 10).generate(small_revenue)\n",
    "  \n",
    "    #plot the WordCloud image                        \n",
    "    plt.figure(figsize = (4.5, 4.5), facecolor = None)\n",
    "    plt.imshow(wordcloud)\n",
    "    plt.axis(\"off\")\n",
    "    plt.title(title, fontsize = 13)\n",
    "    plt.tight_layout(pad = 0)\n",
    "    plt.show()\n",
    "\n",
    "word_cloud(small_revenue, 'Most common words used by CEOs of small revenue companies')"
   ]
  },
  {
   "cell_type": "markdown",
   "id": "04ab4c1d",
   "metadata": {},
   "source": [
    "### Medium Revenue"
   ]
  },
  {
   "cell_type": "code",
   "execution_count": null,
   "id": "bc876f39",
   "metadata": {},
   "outputs": [],
   "source": [
    "#medium revenue rows\n",
    "df_medium_revenue = df3[df3['Revenue Size'] == 'Medium']\n",
    "df_medium_revenue = df_medium_revenue.drop(columns = ['Revenue', 'Revenue Size'])\n",
    "df_medium_revenue.fillna(\"no\", inplace = True)\n",
    "df_medium_revenue = df_medium_revenue.astype(str)"
   ]
  },
  {
   "cell_type": "code",
   "execution_count": null,
   "id": "3ebb6cdd",
   "metadata": {},
   "outputs": [],
   "source": [
    "#put all columns in one\n",
    "medium_revenue_rows = df_medium_revenue.iloc[:,0]\n",
    "for i in range(1,len(df_medium_revenue.columns)):\n",
    "    medium_revenue_rows = pd.concat([medium_revenue_rows, df_medium_revenue.iloc[:,i]])"
   ]
  },
  {
   "cell_type": "code",
   "execution_count": null,
   "id": "a74a7e7f",
   "metadata": {},
   "outputs": [],
   "source": [
    "#word prep\n",
    "medium_revenue_rows = medium_revenue_rows.apply(preprocess)"
   ]
  },
  {
   "cell_type": "code",
   "execution_count": null,
   "id": "d4e828e4",
   "metadata": {},
   "outputs": [],
   "source": [
    "#bigram\n",
    "bigrams_list_medium_revenue = [b for l in medium_revenue_rows for b in zip(l.split(\" \")[:-1], l.split(\" \")[1:])]\n",
    "bigram_counts_medium_revenue = collections.Counter(bigrams_list_medium_revenue)\n",
    "\n",
    "bigram_medium_revenue = pd.DataFrame(bigram_counts_medium_revenue.most_common(20),\n",
    "                         columns = ['bigram', 'count'])\n",
    "bigram_medium_revenue"
   ]
  },
  {
   "cell_type": "code",
   "execution_count": null,
   "id": "981f1239",
   "metadata": {},
   "outputs": [],
   "source": [
    "#word counter\n",
    "counter_list_medium_revenue = Counter(\" \".join(medium_revenue_rows).split()).most_common(15)\n",
    "counter_list_medium_revenue"
   ]
  },
  {
   "cell_type": "code",
   "execution_count": null,
   "id": "794812d7",
   "metadata": {},
   "outputs": [],
   "source": [
    "#plot most common words\n",
    "fig, ax = plt.subplots(figsize = (8, 8))\n",
    "medium_revenue_results = OrderedDict(counter_list_medium_revenue)\n",
    "plt.bar(medium_revenue_results.keys(), medium_revenue_results.values(), color = '#FF0000')\n",
    "plt.title('Most common words used by CEOs of medium revenue companies', fontsize = 15, fontweight = 'bold', loc = 'center')\n",
    "plt.xticks(rotation = 90)\n",
    "plt.show()"
   ]
  },
  {
   "cell_type": "code",
   "execution_count": null,
   "id": "d65e0cf1",
   "metadata": {},
   "outputs": [],
   "source": [
    "#word cloud\n",
    "medium_revenue = ''\n",
    "for arg in medium_revenue_rows:\n",
    "    tokens = arg.split()\n",
    "    medium_revenue += \" \".join(tokens) + \" \"\n",
    "\n",
    "def word_cloud(data, title):\n",
    "    wordcloud = WordCloud(width = 700,\n",
    "                          height = 700,\n",
    "                          stopwords = STOPWORDS,\n",
    "                          background_color = 'black',\n",
    "                          min_font_size = 10).generate(medium_revenue)\n",
    "  \n",
    "    #plot the WordCloud image                        \n",
    "    plt.figure(figsize = (4.5, 4.5), facecolor = None)\n",
    "    plt.imshow(wordcloud)\n",
    "    plt.axis(\"off\")\n",
    "    plt.title(title, fontsize = 13)\n",
    "    plt.tight_layout(pad = 0)\n",
    "    plt.show()\n",
    "\n",
    "word_cloud(medium_revenue, 'Most common words used by CEOs of medium revenue companies')"
   ]
  },
  {
   "cell_type": "markdown",
   "id": "3708d519",
   "metadata": {},
   "source": [
    "### Large Revenue"
   ]
  },
  {
   "cell_type": "code",
   "execution_count": null,
   "id": "da85eb4a",
   "metadata": {},
   "outputs": [],
   "source": [
    "#larg revenue rows\n",
    "df_large_revenue = df3[df3['Revenue Size'] == 'Large']\n",
    "df_large_revenue = df_large_revenue.drop(columns = ['Revenue', 'Revenue Size'])\n",
    "df_large_revenue.fillna(\"no\", inplace = True)\n",
    "df_large_revenue = df_large_revenue.astype(str)"
   ]
  },
  {
   "cell_type": "code",
   "execution_count": null,
   "id": "b7a84ab9",
   "metadata": {},
   "outputs": [],
   "source": [
    "#put all columns in one\n",
    "large_revenue_rows = df_large_revenue.iloc[:,0]\n",
    "for i in range(1,len(df_large_revenue.columns)):\n",
    "    large_revenue_rows = pd.concat([large_revenue_rows, df_large_revenue.iloc[:,i]])"
   ]
  },
  {
   "cell_type": "code",
   "execution_count": null,
   "id": "4e1e1b8e",
   "metadata": {},
   "outputs": [],
   "source": [
    "#word prep\n",
    "large_revenue_rows = large_revenue_rows.apply(preprocess)"
   ]
  },
  {
   "cell_type": "code",
   "execution_count": null,
   "id": "6e5aa5ba",
   "metadata": {},
   "outputs": [],
   "source": [
    "#bigram\n",
    "bigrams_list_large_revenue = [b for l in large_revenue_rows for b in zip(l.split(\" \")[:-1], l.split(\" \")[1:])]\n",
    "bigram_counts_large_revenue = collections.Counter(bigrams_list_large_revenue)\n",
    "bigram_large_revenue = pd.DataFrame(bigram_counts_large_revenue.most_common(20),\n",
    "                         columns = ['bigram', 'count'])\n",
    "bigram_large_revenue"
   ]
  },
  {
   "cell_type": "code",
   "execution_count": null,
   "id": "b7bad002",
   "metadata": {},
   "outputs": [],
   "source": [
    "#word counter\n",
    "counter_list_large_revenue = Counter(\" \".join(large_revenue_rows).split()).most_common(15)\n",
    "counter_list_large_revenue"
   ]
  },
  {
   "cell_type": "code",
   "execution_count": null,
   "id": "357454f3",
   "metadata": {},
   "outputs": [],
   "source": [
    "#plot most common words\n",
    "fig, ax = plt.subplots(figsize = (8, 8))\n",
    "large_revenue_results = OrderedDict(counter_list_large_revenue)\n",
    "plt.bar(large_revenue_results.keys(), large_revenue_results.values(), color = '#FF0000')\n",
    "plt.title('Most common words used by CEOs of large revenue companies', fontsize = 15, fontweight = 'bold', loc = 'center')\n",
    "plt.xticks(rotation = 90)\n",
    "plt.show()"
   ]
  },
  {
   "cell_type": "code",
   "execution_count": null,
   "id": "0773ed9f",
   "metadata": {},
   "outputs": [],
   "source": [
    "#word cloud\n",
    "large_revenue = ''\n",
    "for arg in large_revenue_rows:\n",
    "    tokens = arg.split()\n",
    "    large_revenue += \" \".join(tokens) + \" \"\n",
    "\n",
    "def word_cloud(data, title):\n",
    "    wordcloud = WordCloud(width = 700,\n",
    "                          height = 700,\n",
    "                          stopwords = STOPWORDS,\n",
    "                          background_color = 'black',\n",
    "                          min_font_size = 10).generate(large_revenue)\n",
    "  \n",
    "    #plot the WordCloud image                        \n",
    "    plt.figure(figsize = (4.5, 4.5), facecolor = None)\n",
    "    plt.imshow(wordcloud)\n",
    "    plt.axis(\"off\")\n",
    "    plt.title(title, fontsize = 13)\n",
    "    plt.tight_layout(pad = 0)\n",
    "    plt.show()\n",
    "\n",
    "word_cloud(large_revenue, 'Most common words used by CEOs of large revenue companies')"
   ]
  },
  {
   "cell_type": "markdown",
   "id": "f0904d97",
   "metadata": {},
   "source": [
    "# Healthcare?"
   ]
  },
  {
   "cell_type": "code",
   "execution_count": null,
   "id": "6483c490",
   "metadata": {},
   "outputs": [],
   "source": [
    "#create new data frame, drop null values, and assing each row a 'yes' if the company is in the healthcare industry, 0 otherwise\n",
    "df4 = df.drop(['Revenue', 'Number_Of_Employees', 'Realized_Returns'], axis = 1)\n",
    "df4 = df4[df4['Organization'].notna()]\n",
    "df4['Healthcare?'] = np.where(df4['Organization'] == 'Healthcare', 'Yes', 'No')"
   ]
  },
  {
   "cell_type": "code",
   "execution_count": null,
   "id": "8591e17d",
   "metadata": {},
   "outputs": [],
   "source": [
    "#move the 'Healthcare?' column closer to the beginning\n",
    "healthcare = df4['Healthcare?']\n",
    "df4.drop(labels = ['Healthcare?'], axis = 1,inplace = True)\n",
    "df4.insert(1, 'Healthcare?', healthcare)"
   ]
  },
  {
   "cell_type": "markdown",
   "id": "376a59c7",
   "metadata": {},
   "source": [
    "### Yes "
   ]
  },
  {
   "cell_type": "code",
   "execution_count": null,
   "id": "cedf0ed3",
   "metadata": {},
   "outputs": [],
   "source": [
    "#healthcare yes rows\n",
    "df_healthcare_yes = df4[df4['Healthcare?'] == 'Yes']\n",
    "df_healthcare_yes = df_healthcare_yes.drop(columns = ['Organization', 'Healthcare?'])\n",
    "df_healthcare_yes.fillna(\"no\", inplace = True)\n",
    "df_healthcare_yes = df_healthcare_yes.astype(str)"
   ]
  },
  {
   "cell_type": "code",
   "execution_count": null,
   "id": "f3441085",
   "metadata": {},
   "outputs": [],
   "source": [
    "#put all columns in one\n",
    "healthcare_yes_rows = df_healthcare_yes.iloc[:,0]\n",
    "for i in range(1,len(df_healthcare_yes.columns)):\n",
    "    healthcare_yes_rows = pd.concat([healthcare_yes_rows, df_healthcare_yes.iloc[:,i]])"
   ]
  },
  {
   "cell_type": "code",
   "execution_count": null,
   "id": "43d7bcee",
   "metadata": {},
   "outputs": [],
   "source": [
    "#word prep\n",
    "healthcare_yes_rows = healthcare_yes_rows.apply(preprocess)"
   ]
  },
  {
   "cell_type": "code",
   "execution_count": null,
   "id": "a45aa717",
   "metadata": {},
   "outputs": [],
   "source": [
    "#bigram\n",
    "bigrams_list_healthcare_yes = [b for l in healthcare_yes_rows for b in zip(l.split(\" \")[:-1], l.split(\" \")[1:])]\n",
    "bigram_counts_healthcare_yes = collections.Counter(bigrams_list_healthcare_yes)\n",
    "bigram_healthcare_yes = pd.DataFrame(bigram_counts_healthcare_yes.most_common(20),\n",
    "                         columns = ['bigram', 'count'])\n",
    "bigram_healthcare_yes"
   ]
  },
  {
   "cell_type": "code",
   "execution_count": null,
   "id": "cda77a3e",
   "metadata": {},
   "outputs": [],
   "source": [
    "#word counter\n",
    "counter_list_healthcare_yes = Counter(\" \".join(healthcare_yes_rows).split()).most_common(15)\n",
    "counter_list_healthcare_yes"
   ]
  },
  {
   "cell_type": "code",
   "execution_count": null,
   "id": "bfbb6ba6",
   "metadata": {},
   "outputs": [],
   "source": [
    "#plot most common words\n",
    "fig, ax = plt.subplots(figsize = (8, 8))\n",
    "healthcare_yes_results = OrderedDict(counter_list_healthcare_yes)\n",
    "plt.bar(healthcare_yes_results.keys(), healthcare_yes_results.values(), color = '#FF0000')\n",
    "plt.title('Most common words used by CEOs in the healthcare industry', fontsize = 15, fontweight = 'bold', loc = 'center')\n",
    "plt.xticks(rotation = 90)\n",
    "plt.show()"
   ]
  },
  {
   "cell_type": "code",
   "execution_count": null,
   "id": "520dc88b",
   "metadata": {},
   "outputs": [],
   "source": [
    "#word cloud\n",
    "healthcare_yes = ''\n",
    "for arg in healthcare_yes_rows:\n",
    "    tokens = arg.split()\n",
    "    healthcare_yes += \" \".join(tokens) + \" \"\n",
    "\n",
    "def word_cloud(data, title):\n",
    "    wordcloud = WordCloud(width = 700,\n",
    "                          height = 700,\n",
    "                          stopwords = STOPWORDS,\n",
    "                          background_color = 'black',\n",
    "                          min_font_size = 10).generate(healthcare_yes)\n",
    "  \n",
    "    #plot the WordCloud image                        \n",
    "    plt.figure(figsize = (4.5, 4.5), facecolor = None)\n",
    "    plt.imshow(wordcloud)\n",
    "    plt.axis(\"off\")\n",
    "    plt.title(title, fontsize = 13)\n",
    "    plt.tight_layout(pad = 0)\n",
    "    plt.show()\n",
    "\n",
    "word_cloud(healthcare_yes, 'Most common words used by CEOs of companies in the healthcare industry')"
   ]
  },
  {
   "cell_type": "markdown",
   "id": "1590fc8c",
   "metadata": {},
   "source": [
    "### No"
   ]
  },
  {
   "cell_type": "code",
   "execution_count": null,
   "id": "016f8fc4",
   "metadata": {},
   "outputs": [],
   "source": [
    "#healthcare no rows\n",
    "df_healthcare_no = df4[df4['Healthcare?'] == 'No']\n",
    "df_healthcare_no = df_healthcare_no.drop(columns = ['Organization', 'Healthcare?'])\n",
    "df_healthcare_no.fillna(\"no\", inplace = True)\n",
    "df_healthcare_no = df_healthcare_no.astype(str)"
   ]
  },
  {
   "cell_type": "code",
   "execution_count": null,
   "id": "d43464d3",
   "metadata": {},
   "outputs": [],
   "source": [
    "#put all columns in one\n",
    "healthcare_no_rows = df_healthcare_no.iloc[:,0]\n",
    "for i in range(1,len(df_healthcare_no.columns)):\n",
    "    healthcare_no_rows = pd.concat([healthcare_no_rows, df_healthcare_no.iloc[:,i]])"
   ]
  },
  {
   "cell_type": "code",
   "execution_count": null,
   "id": "d659e33c",
   "metadata": {},
   "outputs": [],
   "source": [
    "#word prep\n",
    "healthcare_no_rows = healthcare_no_rows.apply(preprocess)"
   ]
  },
  {
   "cell_type": "code",
   "execution_count": null,
   "id": "1c94b82e",
   "metadata": {},
   "outputs": [],
   "source": [
    "#bigram\n",
    "bigrams_list_healthcare_no = [b for l in healthcare_no_rows for b in zip(l.split(\" \")[:-1], l.split(\" \")[1:])]\n",
    "bigram_counts_healthcare_no = collections.Counter(bigrams_list_healthcare_no)\n",
    "bigram_healthcare_no = pd.DataFrame(bigram_counts_healthcare_no.most_common(20),\n",
    "                         columns = ['bigram', 'count'])\n",
    "bigram_healthcare_no"
   ]
  },
  {
   "cell_type": "code",
   "execution_count": null,
   "id": "1e22cc5d",
   "metadata": {},
   "outputs": [],
   "source": [
    "#word counter\n",
    "counter_list_healthcare_no = Counter(\" \".join(healthcare_no_rows).split()).most_common(15)\n",
    "counter_list_healthcare_no"
   ]
  },
  {
   "cell_type": "code",
   "execution_count": null,
   "id": "9a68e021",
   "metadata": {},
   "outputs": [],
   "source": [
    "#plot most common words\n",
    "fig, ax = plt.subplots(figsize = (8, 8))\n",
    "healthcare_no_results = OrderedDict(counter_list_healthcare_no)\n",
    "plt.bar(healthcare_no_results.keys(), healthcare_no_results.values(), color = '#FF0000')\n",
    "plt.title('Most common words used by CEOs in other industries', fontsize = 15, fontweight = 'bold', loc = 'center')\n",
    "plt.xticks(rotation = 90)\n",
    "plt.show()"
   ]
  },
  {
   "cell_type": "code",
   "execution_count": null,
   "id": "e5b4f2af",
   "metadata": {},
   "outputs": [],
   "source": [
    "#word cloud\n",
    "healthcare_no = ''\n",
    "for arg in healthcare_no_rows:\n",
    "    tokens = arg.split()\n",
    "    healthcare_no += \" \".join(tokens) + \" \"\n",
    "\n",
    "def word_cloud(data, title):\n",
    "    wordcloud = WordCloud(width = 700,\n",
    "                          height = 700,\n",
    "                          stopwords = STOPWORDS,\n",
    "                          background_color ='black',\n",
    "                          min_font_size = 10).generate(healthcare_no)\n",
    "  \n",
    "    #plot the WordCloud image                        \n",
    "    plt.figure(figsize = (4.5, 4.5), facecolor = None)\n",
    "    plt.imshow(wordcloud)\n",
    "    plt.axis(\"off\")\n",
    "    plt.title(title, fontsize = 13)\n",
    "    plt.tight_layout(pad = 0)\n",
    "    plt.show()\n",
    "\n",
    "word_cloud(healthcare_no, 'Most common words used by CEOs of companies in other industries')"
   ]
  },
  {
   "cell_type": "markdown",
   "id": "4eaeccbd",
   "metadata": {},
   "source": [
    "# Realized Returns"
   ]
  },
  {
   "cell_type": "code",
   "execution_count": null,
   "id": "77606372",
   "metadata": {},
   "outputs": [],
   "source": [
    "#create new dataframe and drop null values\n",
    "df5 = df.drop(['Organization', 'Revenue', 'Number_Of_Employees'], axis = 1)\n",
    "df5 = df5[df5['Realized_Returns'].notna()]"
   ]
  },
  {
   "cell_type": "code",
   "execution_count": null,
   "id": "ba6e02af",
   "metadata": {},
   "outputs": [],
   "source": [
    "#assign each row a 'Yes' or 'No' based on if they have had more than one realized return\n",
    "def z(row):\n",
    "    if '\\n' in row['Realized_Returns']:\n",
    "        val = 'Yes'\n",
    "    else:\n",
    "        val = 'No'\n",
    "    return val\n",
    "\n",
    "#create new column using the function above\n",
    "df5['More than One Realized Return?'] = df5.apply(z, axis = 1)"
   ]
  },
  {
   "cell_type": "code",
   "execution_count": null,
   "id": "4d7a44c1",
   "metadata": {},
   "outputs": [],
   "source": [
    "#move the 'More than One Realized Return?' column closer to the beginning\n",
    "realizedreturns = df5['More than One Realized Return?']\n",
    "df5.drop(labels = ['More than One Realized Return?'], axis = 1, inplace = True)\n",
    "df5.insert(1, 'More than One Realized Return?', realizedreturns)"
   ]
  },
  {
   "cell_type": "markdown",
   "id": "c45e222d",
   "metadata": {},
   "source": [
    "### 1 Realized Return"
   ]
  },
  {
   "cell_type": "code",
   "execution_count": null,
   "id": "a873ce0f",
   "metadata": {},
   "outputs": [],
   "source": [
    "#one realized return rows\n",
    "df_one_realized_return = df5[df5['More than One Realized Return?'] == 'No']\n",
    "df_one_realized_return = df_one_realized_return.drop(columns = ['Realized_Returns', 'More than One Realized Return?'])\n",
    "df_one_realized_return.fillna(\"no\", inplace = True)\n",
    "df_one_realized_return = df_one_realized_return.astype(str)"
   ]
  },
  {
   "cell_type": "code",
   "execution_count": null,
   "id": "9636d8de",
   "metadata": {},
   "outputs": [],
   "source": [
    "#put all columns in one\n",
    "one_realized_return_rows = df_one_realized_return.iloc[:,0]\n",
    "for i in range(1,len(df_one_realized_return.columns)):\n",
    "    one_realized_return_rows = pd.concat([one_realized_return_rows, df_one_realized_return.iloc[:,i]])"
   ]
  },
  {
   "cell_type": "code",
   "execution_count": null,
   "id": "eca9b457",
   "metadata": {
    "scrolled": true
   },
   "outputs": [],
   "source": [
    "#word prep\n",
    "one_realized_return_rows = one_realized_return_rows.apply(preprocess)"
   ]
  },
  {
   "cell_type": "code",
   "execution_count": null,
   "id": "3bfea0af",
   "metadata": {},
   "outputs": [],
   "source": [
    "#bigram\n",
    "bigrams_list_one_realized_return = [b for l in one_realized_return_rows for b in zip(l.split(\" \")[:-1], l.split(\" \")[1:])]\n",
    "bigram_counts_one_realized_return = collections.Counter(bigrams_list_one_realized_return)\n",
    "\n",
    "bigram_one_realized_return = pd.DataFrame(bigram_counts_one_realized_return.most_common(20),\n",
    "                         columns = ['bigram', 'count'])\n",
    "bigram_one_realized_return"
   ]
  },
  {
   "cell_type": "code",
   "execution_count": null,
   "id": "a989e877",
   "metadata": {
    "scrolled": true
   },
   "outputs": [],
   "source": [
    "#word counter\n",
    "counter_list_one_realized_return = Counter(\" \".join(one_realized_return_rows).split()).most_common(15)\n",
    "counter_list_one_realized_return"
   ]
  },
  {
   "cell_type": "code",
   "execution_count": null,
   "id": "457c1a89",
   "metadata": {},
   "outputs": [],
   "source": [
    "#plot most common words\n",
    "fig, ax = plt.subplots(figsize = (8, 8))\n",
    "one_realized_returns_result = OrderedDict(counter_list_one_realized_return)\n",
    "plt.bar(one_realized_returns_result.keys(), one_realized_returns_result.values(), color = '#FF0000')\n",
    "plt.title('Most common words used by CEOs who have had 1 realized return',\n",
    "          fontsize = 10, fontweight = 'bold', loc = 'center')\n",
    "plt.xticks(rotation = 90)\n",
    "plt.show()"
   ]
  },
  {
   "cell_type": "code",
   "execution_count": null,
   "id": "63f7fa24",
   "metadata": {
    "scrolled": true
   },
   "outputs": [],
   "source": [
    "#word cloud\n",
    "one_realized_return = ''\n",
    "for arg in one_realized_return_rows:\n",
    "    tokens = arg.split()\n",
    "    one_realized_return += \" \".join(tokens) + \" \"\n",
    "\n",
    "def word_cloud(data, title):\n",
    "    wordcloud = WordCloud(width = 700,\n",
    "                          height = 700,\n",
    "                          stopwords = STOPWORDS,\n",
    "                          background_color = 'black',\n",
    "                          min_font_size = 10).generate(one_realized_return)\n",
    "\n",
    "    #plot the WordCloud image                        \n",
    "    plt.figure(figsize = (4.5, 4.5), facecolor = None)\n",
    "    plt.imshow(wordcloud)\n",
    "    plt.axis(\"off\")\n",
    "    plt.title(title, fontsize = 13)\n",
    "    plt.tight_layout(pad = 0)\n",
    "    plt.show()\n",
    "\n",
    "word_cloud(one_realized_return, 'Most common words used by CEOs who have had 1 realized return')"
   ]
  },
  {
   "cell_type": "markdown",
   "id": "aaa53f97",
   "metadata": {},
   "source": [
    "### More than 1 Realized Return"
   ]
  },
  {
   "cell_type": "code",
   "execution_count": null,
   "id": "81e20178",
   "metadata": {},
   "outputs": [],
   "source": [
    "#realized returns rows\n",
    "df_realized_returns = df5[df5['More than One Realized Return?'] == 'Yes']\n",
    "df_realized_returns = df_realized_returns.drop(columns = ['Realized_Returns', 'More than One Realized Return?'])\n",
    "df_realized_returns.fillna(\"no\", inplace = True)\n",
    "df_realized_returns = df_realized_returns.astype(str)"
   ]
  },
  {
   "cell_type": "code",
   "execution_count": null,
   "id": "a4c5d4aa",
   "metadata": {},
   "outputs": [],
   "source": [
    "#put all columns in one\n",
    "realized_returns_rows = df_realized_returns.iloc[:,0]\n",
    "for i in range(1,len(df_realized_returns.columns)):\n",
    "    realized_returns_rows = pd.concat([realized_returns_rows, df_realized_returns.iloc[:,i]])"
   ]
  },
  {
   "cell_type": "code",
   "execution_count": null,
   "id": "3b163f76",
   "metadata": {
    "scrolled": true
   },
   "outputs": [],
   "source": [
    "#word prep\n",
    "realized_returns_rows = realized_returns_rows.apply(preprocess)"
   ]
  },
  {
   "cell_type": "code",
   "execution_count": null,
   "id": "435536a4",
   "metadata": {},
   "outputs": [],
   "source": [
    "#bigram\n",
    "bigrams_list_realized_returns = [b for l in realized_returns_rows for b in zip(l.split(\" \")[:-1], l.split(\" \")[1:])]\n",
    "bigram_counts_realized_returns = collections.Counter(bigrams_list_realized_returns)\n",
    "\n",
    "bigram_realized_returns = pd.DataFrame(bigram_counts_realized_returns.most_common(20),\n",
    "                         columns = ['bigram', 'count'])\n",
    "bigram_realized_returns"
   ]
  },
  {
   "cell_type": "code",
   "execution_count": null,
   "id": "14febf20",
   "metadata": {
    "scrolled": true
   },
   "outputs": [],
   "source": [
    "#word counter\n",
    "counter_list_realized_returns = Counter(\" \".join(realized_returns_rows).split()).most_common(15)\n",
    "counter_list_realized_returns"
   ]
  },
  {
   "cell_type": "code",
   "execution_count": null,
   "id": "0284bb87",
   "metadata": {},
   "outputs": [],
   "source": [
    "#plot most common words\n",
    "fig, ax = plt.subplots(figsize = (8, 8))\n",
    "realized_returns_results = OrderedDict(counter_list_realized_returns)\n",
    "plt.bar(realized_returns_results.keys(), realized_returns_results.values(), color = '#FF0000')\n",
    "plt.title('Most common words used by CEOs who have had more than 1 realized return',\n",
    "          fontsize = 10, fontweight = 'bold', loc = 'center')\n",
    "plt.xticks(rotation = 90)\n",
    "plt.show()"
   ]
  },
  {
   "cell_type": "code",
   "execution_count": null,
   "id": "c7507614",
   "metadata": {
    "scrolled": true
   },
   "outputs": [],
   "source": [
    "#word cloud\n",
    "realized_returns = ''\n",
    "for arg in realized_returns_rows:\n",
    "    tokens = arg.split()\n",
    "    realized_returns += \" \".join(tokens) + \" \"\n",
    "\n",
    "def word_cloud(data, title):\n",
    "    wordcloud = WordCloud(width = 700,\n",
    "                          height = 700,\n",
    "                          stopwords = STOPWORDS,\n",
    "                          background_color = 'black',\n",
    "                          min_font_size = 10).generate(realized_returns)\n",
    "\n",
    "    #plot the WordCloud image                        \n",
    "    plt.figure(figsize = (4.5, 4.5), facecolor = None)\n",
    "    plt.imshow(wordcloud)\n",
    "    plt.axis(\"off\")\n",
    "    plt.title(title, fontsize = 13)\n",
    "    plt.tight_layout(pad = 0)\n",
    "    plt.show()\n",
    "\n",
    "word_cloud(realized_returns, 'Most common words used by CEOs who have had more than 1 realized return')"
   ]
  },
  {
   "cell_type": "code",
   "execution_count": null,
   "id": "c71ecd0b",
   "metadata": {},
   "outputs": [],
   "source": []
  }
 ],
 "metadata": {
  "kernelspec": {
   "display_name": "Python 3",
   "language": "python",
   "name": "python3"
  },
  "language_info": {
   "codemirror_mode": {
    "name": "ipython",
    "version": 3
   },
   "file_extension": ".py",
   "mimetype": "text/x-python",
   "name": "python",
   "nbconvert_exporter": "python",
   "pygments_lexer": "ipython3",
   "version": "3.8.8"
  }
 },
 "nbformat": 4,
 "nbformat_minor": 5
}
